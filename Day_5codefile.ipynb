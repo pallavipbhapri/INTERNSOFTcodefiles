{
  "nbformat": 4,
  "nbformat_minor": 0,
  "metadata": {
    "colab": {
      "name": "Day 5codefile.ipynb",
      "provenance": []
    },
    "kernelspec": {
      "name": "python3",
      "display_name": "Python 3"
    }
  },
  "cells": [
    {
      "cell_type": "code",
      "metadata": {
        "id": "tBF66unvuO0I"
      },
      "source": [
        "import math"
      ],
      "execution_count": 9,
      "outputs": []
    },
    {
      "cell_type": "code",
      "metadata": {
        "colab": {
          "base_uri": "https://localhost:8080/"
        },
        "id": "7wqp-7rGuPll",
        "outputId": "6302bf4d-ee40-4cf2-9d9e-eee6f224537a"
      },
      "source": [
        "math.ceil(2.4)"
      ],
      "execution_count": 10,
      "outputs": [
        {
          "output_type": "execute_result",
          "data": {
            "text/plain": [
              "3"
            ]
          },
          "metadata": {
            "tags": []
          },
          "execution_count": 10
        }
      ]
    },
    {
      "cell_type": "code",
      "metadata": {
        "colab": {
          "base_uri": "https://localhost:8080/"
        },
        "id": "7i7lXwsuuPsn",
        "outputId": "18f8509a-e935-4218-9713-b8b958c63ad4"
      },
      "source": [
        "print(dir(math))"
      ],
      "execution_count": 11,
      "outputs": [
        {
          "output_type": "stream",
          "text": [
            "['__doc__', '__loader__', '__name__', '__package__', '__spec__', 'acos', 'acosh', 'asin', 'asinh', 'atan', 'atan2', 'atanh', 'ceil', 'copysign', 'cos', 'cosh', 'degrees', 'e', 'erf', 'erfc', 'exp', 'expm1', 'fabs', 'factorial', 'floor', 'fmod', 'frexp', 'fsum', 'gamma', 'gcd', 'hypot', 'inf', 'isclose', 'isfinite', 'isinf', 'isnan', 'ldexp', 'lgamma', 'log', 'log10', 'log1p', 'log2', 'modf', 'nan', 'pi', 'pow', 'radians', 'sin', 'sinh', 'sqrt', 'tan', 'tanh', 'tau', 'trunc']\n"
          ],
          "name": "stdout"
        }
      ]
    },
    {
      "cell_type": "code",
      "metadata": {
        "colab": {
          "base_uri": "https://localhost:8080/"
        },
        "id": "RocSUe4OuP0h",
        "outputId": "a7671755-1fa1-417f-c088-ff72d1c88732"
      },
      "source": [
        "help(math.ceil)"
      ],
      "execution_count": null,
      "outputs": [
        {
          "output_type": "stream",
          "text": [
            "Help on built-in function ceil in module math:\n",
            "\n",
            "ceil(...)\n",
            "    ceil(x)\n",
            "    \n",
            "    Return the ceiling of x as an Integral.\n",
            "    This is the smallest integer >= x.\n",
            "\n"
          ],
          "name": "stdout"
        }
      ]
    },
    {
      "cell_type": "code",
      "metadata": {
        "id": "m3eItpu7xWP1"
      },
      "source": [
        "import foo.bar"
      ],
      "execution_count": null,
      "outputs": []
    },
    {
      "cell_type": "code",
      "metadata": {
        "id": "D4sxFKNiuQFC"
      },
      "source": [
        "from foo import bar"
      ],
      "execution_count": null,
      "outputs": []
    },
    {
      "cell_type": "code",
      "metadata": {
        "id": "0OYlXUufuQM0"
      },
      "source": [
        "__init__.py:\r\n",
        "\r\n",
        "__all__ = [\"bar\"]"
      ],
      "execution_count": null,
      "outputs": []
    },
    {
      "cell_type": "code",
      "metadata": {
        "id": "xdqDlt0JuSrG"
      },
      "source": [
        "print('Hello)"
      ],
      "execution_count": null,
      "outputs": []
    },
    {
      "cell_type": "code",
      "metadata": {
        "id": "Gvj2MKKRuTnU"
      },
      "source": [
        "try:\r\n",
        "    f = open('testfile','w')\r\n",
        "    f.write('Test write this')\r\n",
        "except IOError:\r\n",
        "    # This will only check for an IOError exception and then execute this print statement\r\n",
        "   print(\"Error: Could not find file or read data\")\r\n",
        "else:\r\n",
        "   print(\"Content written successfully\")\r\n",
        "   f.close()"
      ],
      "execution_count": null,
      "outputs": []
    },
    {
      "cell_type": "code",
      "metadata": {
        "id": "635lpmc8uT67"
      },
      "source": [
        "try:\r\n",
        "    f = open('testfile','r')\r\n",
        "    f.write('Test write this')\r\n",
        "except IOError:\r\n",
        "    # This will only check for an IOError exception and then execute this print statement\r\n",
        "   print(\"Error: Could not find file or read data\")\r\n",
        "else:\r\n",
        "   print(\"Content written successfully\")\r\n",
        "   f.close()"
      ],
      "execution_count": null,
      "outputs": []
    },
    {
      "cell_type": "code",
      "metadata": {
        "id": "BR2mGEnouUET"
      },
      "source": [
        "try:\r\n",
        "    f = open('testfile','w')\r\n",
        "    f.write('Test write this')\r\n",
        "except:\r\n",
        "    # This will check for any exception and then execute this print statement\r\n",
        "   print(\"Error: Could not find file or read data\")\r\n",
        "else:\r\n",
        "   print(\"Content written successfully\")\r\n",
        "   f.close()"
      ],
      "execution_count": null,
      "outputs": []
    },
    {
      "cell_type": "code",
      "metadata": {
        "id": "elQAK6NKuURW"
      },
      "source": [
        "try:\r\n",
        "   f = open(\"testfile\", \"w\")\r\n",
        "   f.write(\"Test write statement\")\r\n",
        "finally:\r\n",
        "   print(\"Always execute finally code blocks\")"
      ],
      "execution_count": null,
      "outputs": []
    },
    {
      "cell_type": "code",
      "metadata": {
        "id": "iUkOYUJFuUU0"
      },
      "source": [
        "def askint():\r\n",
        "        try:\r\n",
        "            val = int(input(\"Please enter an integer: \"))\r\n",
        "        except:\r\n",
        "            print(\"Looks like you did not enter an integer!\")\r\n",
        "            \r\n",
        "        finally:\r\n",
        "            print(\"Finally, I executed!\")\r\n",
        "        print(val)       "
      ],
      "execution_count": null,
      "outputs": []
    },
    {
      "cell_type": "code",
      "metadata": {
        "id": "e-moIiXBuUZG"
      },
      "source": [
        "askint()"
      ],
      "execution_count": null,
      "outputs": []
    },
    {
      "cell_type": "code",
      "metadata": {
        "id": "5mznlvtCuUdP"
      },
      "source": [
        "askint()"
      ],
      "execution_count": null,
      "outputs": []
    },
    {
      "cell_type": "code",
      "metadata": {
        "id": "gsqaoMe6uUh1"
      },
      "source": [
        "def askint():\r\n",
        "        try:\r\n",
        "            val = int(input(\"Please enter an integer: \"))\r\n",
        "        except:\r\n",
        "            print(\"Looks like you did not enter an integer!\")\r\n",
        "            val = int(input(\"Try again-Please enter an integer: \"))\r\n",
        "        finally:\r\n",
        "            print(\"Finally, I executed!\")\r\n",
        "        print(val) "
      ],
      "execution_count": null,
      "outputs": []
    },
    {
      "cell_type": "code",
      "metadata": {
        "id": "Py5exV4PuUmL"
      },
      "source": [
        "askint()"
      ],
      "execution_count": null,
      "outputs": []
    },
    {
      "cell_type": "code",
      "metadata": {
        "id": "_h4_4146uUp1"
      },
      "source": [
        "def askint():\r\n",
        "    while True:\r\n",
        "        try:\r\n",
        "            val = int(input(\"Please enter an integer: \"))\r\n",
        "        except:\r\n",
        "            print(\"Looks like you did not enter an integer!\")\r\n",
        "            continue\r\n",
        "        else:\r\n",
        "            print('Yep thats an integer!')\r\n",
        "            break\r\n",
        "        finally:\r\n",
        "            print(\"Finally, I executed!\")\r\n",
        "        print(val) "
      ],
      "execution_count": null,
      "outputs": []
    },
    {
      "cell_type": "code",
      "metadata": {
        "id": "6wfYwZ3wuUv0"
      },
      "source": [
        "askint()"
      ],
      "execution_count": null,
      "outputs": []
    },
    {
      "cell_type": "code",
      "metadata": {
        "id": "gAQGcz8UuU0P"
      },
      "source": [
        "#!/usr/bin/python\r\n",
        "\r\n",
        "import sqlite3\r\n",
        "#connecting with the database.\r\n",
        "\r\n",
        "db = sqlite3.connect(\"my_database1.db\")\r\n",
        "\r\n",
        "# Drop table if it already exist using execute() method.\r\n",
        "db.execute(\"drop table if exists grades1\")\r\n",
        "\r\n",
        "# Create table as per requirement\r\n",
        "db.execute(\"create table grades1(id int, name text, score int)\")\r\n",
        "\r\n",
        "#inserting values inside the created table\r\n",
        "db.execute(\"insert into grades1(id, name, score) values(101, 'John',99 )\")\r\n",
        "db.execute(\"insert into grades1(id, name, score) values(102, 'Gary',90 )\")\r\n",
        "db.execute(\"insert into grades1(id, name, score) values(103, 'James', 80 )\")\r\n",
        "db.execute(\"insert into grades1(id, name, score) values(104, 'Cathy', 85 )\")\r\n",
        "db.execute(\"insert into grades1(id, name, score) values(105, 'Kris',95 )\")\r\n"
      ],
      "execution_count": null,
      "outputs": []
    },
    {
      "cell_type": "code",
      "metadata": {
        "id": "_YBhS9jguU4G"
      },
      "source": [
        "db.commit()"
      ],
      "execution_count": null,
      "outputs": []
    },
    {
      "cell_type": "code",
      "metadata": {
        "id": "lq__lX40vggz"
      },
      "source": [
        "results = db.execute(\"select * from grades1 order by id\")\r\n",
        "for row in results:\r\n",
        "    print(row)\r\n",
        "print(\"-\" * 60 )"
      ],
      "execution_count": null,
      "outputs": []
    },
    {
      "cell_type": "code",
      "metadata": {
        "id": "cez4ghL6vgtU"
      },
      "source": [
        "results = db.execute(\"select * from grades1 where name = 'Gary' \")\r\n",
        "for row in results:\r\n",
        "    print(row)\r\n",
        "print(\"-\" * 60 )"
      ],
      "execution_count": null,
      "outputs": []
    },
    {
      "cell_type": "code",
      "metadata": {
        "id": "YlkfvAN5vhCg"
      },
      "source": [
        "results = db.execute(\"select * from grades1 where score >= 90 \")\r\n",
        "for row in results:\r\n",
        "    print(row)\r\n",
        "print(\"-\" * 60 )"
      ],
      "execution_count": null,
      "outputs": []
    },
    {
      "cell_type": "code",
      "metadata": {
        "id": "zRdxFbSNviTB"
      },
      "source": [
        "results = db.execute(\"select name, score from grades1 order by score desc \")\r\n",
        "for row in results:\r\n",
        "    print(row)\r\n",
        "print(\"-\" * 60 )"
      ],
      "execution_count": null,
      "outputs": []
    },
    {
      "cell_type": "code",
      "metadata": {
        "id": "7yJxbiIEvuFo"
      },
      "source": [
        "results = db.execute(\"select name, score from grades1 order by score\")\r\n",
        "for row in results:\r\n",
        "    print(row)\r\n",
        "print(\"-\" * 60 )"
      ],
      "execution_count": null,
      "outputs": []
    },
    {
      "cell_type": "code",
      "metadata": {
        "id": "D0uYYX5nvy_h"
      },
      "source": [
        "results = db.execute(\"select name, score from grades1 order by score\")\r\n",
        "for row in results:\r\n",
        "    print(row)"
      ],
      "execution_count": null,
      "outputs": []
    },
    {
      "cell_type": "code",
      "metadata": {
        "id": "VBZHwK0KvuOA"
      },
      "source": [
        ""
      ],
      "execution_count": null,
      "outputs": []
    }
  ]
}