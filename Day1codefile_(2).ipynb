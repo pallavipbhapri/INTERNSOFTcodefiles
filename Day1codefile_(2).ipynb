{
  "nbformat": 4,
  "nbformat_minor": 0,
  "metadata": {
    "colab": {
      "name": "Day1codefile (2).ipynb",
      "provenance": []
    },
    "kernelspec": {
      "name": "python3",
      "display_name": "Python 3"
    }
  },
  "cells": [
    {
      "cell_type": "code",
      "metadata": {
        "colab": {
          "base_uri": "https://localhost:8080/"
        },
        "id": "xTdJ2eweFZuw",
        "outputId": "f20c68e7-de42-40ff-dfd8-a06164c8fe07"
      },
      "source": [
        "x=1\r\n",
        "type(x)"
      ],
      "execution_count": null,
      "outputs": [
        {
          "output_type": "execute_result",
          "data": {
            "text/plain": [
              "int"
            ]
          },
          "metadata": {
            "tags": []
          },
          "execution_count": 1
        }
      ]
    },
    {
      "cell_type": "code",
      "metadata": {
        "colab": {
          "base_uri": "https://localhost:8080/"
        },
        "id": "mNdX-cb2IQsM",
        "outputId": "e8dafc8d-71ac-4ef5-b99b-99efd422e231"
      },
      "source": [
        "x = 1.0\r\n",
        "type(x)"
      ],
      "execution_count": 1,
      "outputs": [
        {
          "output_type": "execute_result",
          "data": {
            "text/plain": [
              "float"
            ]
          },
          "metadata": {
            "tags": []
          },
          "execution_count": 1
        }
      ]
    },
    {
      "cell_type": "code",
      "metadata": {
        "colab": {
          "base_uri": "https://localhost:8080/"
        },
        "id": "ZIvUVJWiJVq8",
        "outputId": "d4c06334-9525-44e1-ed47-bee07f5ec9af"
      },
      "source": [
        "b1 = True\r\n",
        "b2 = False\r\n",
        "\r\n",
        "type(b1)"
      ],
      "execution_count": null,
      "outputs": [
        {
          "output_type": "execute_result",
          "data": {
            "text/plain": [
              "bool"
            ]
          },
          "metadata": {
            "tags": []
          },
          "execution_count": 3
        }
      ]
    },
    {
      "cell_type": "code",
      "metadata": {
        "colab": {
          "base_uri": "https://localhost:8080/"
        },
        "id": "wF2qc2qMJV-M",
        "outputId": "fb8ad9c0-0104-4419-bce0-e786d3418200"
      },
      "source": [
        "name1 = 'pallavi'\r\n",
        "type(name1)"
      ],
      "execution_count": null,
      "outputs": [
        {
          "output_type": "execute_result",
          "data": {
            "text/plain": [
              "str"
            ]
          },
          "metadata": {
            "tags": []
          },
          "execution_count": 5
        }
      ]
    },
    {
      "cell_type": "code",
      "metadata": {
        "colab": {
          "base_uri": "https://localhost:8080/"
        },
        "id": "ejyJx9lXJWGN",
        "outputId": "9f2d3ca5-f3b8-4a0d-9381-561cfbc16181"
      },
      "source": [
        "x = 1.0 - 2.0j\r\n",
        "type(x)"
      ],
      "execution_count": null,
      "outputs": [
        {
          "output_type": "execute_result",
          "data": {
            "text/plain": [
              "complex"
            ]
          },
          "metadata": {
            "tags": []
          },
          "execution_count": 6
        }
      ]
    },
    {
      "cell_type": "code",
      "metadata": {
        "colab": {
          "base_uri": "https://localhost:8080/"
        },
        "id": "Ut56yfWtJWPZ",
        "outputId": "4309e0a3-407e-4901-b457-1b6f6f86d695"
      },
      "source": [
        "print(x)"
      ],
      "execution_count": null,
      "outputs": [
        {
          "output_type": "stream",
          "text": [
            "(1-2j)\n"
          ],
          "name": "stdout"
        }
      ]
    },
    {
      "cell_type": "code",
      "metadata": {
        "colab": {
          "base_uri": "https://localhost:8080/"
        },
        "id": "z2fQs92UJWV6",
        "outputId": "81c830fb-008e-4414-92f2-3c5ea95be2b6"
      },
      "source": [
        "print(x.real, x.imag)"
      ],
      "execution_count": null,
      "outputs": [
        {
          "output_type": "stream",
          "text": [
            "1.0 -2.0\n"
          ],
          "name": "stdout"
        }
      ]
    },
    {
      "cell_type": "code",
      "metadata": {
        "colab": {
          "base_uri": "https://localhost:8080/"
        },
        "id": "hPU7oVmaJWfA",
        "outputId": "5bde216c-7fec-444b-861a-93ccc5effe77"
      },
      "source": [
        "tenth = 10\r\n",
        "two = 2\r\n",
        "print(tenth)\r\n",
        "two"
      ],
      "execution_count": null,
      "outputs": [
        {
          "output_type": "stream",
          "text": [
            "10\n"
          ],
          "name": "stdout"
        },
        {
          "output_type": "execute_result",
          "data": {
            "text/plain": [
              "2"
            ]
          },
          "metadata": {
            "tags": []
          },
          "execution_count": 9
        }
      ]
    },
    {
      "cell_type": "code",
      "metadata": {
        "colab": {
          "base_uri": "https://localhost:8080/"
        },
        "id": "PT4l2nNCMLd-",
        "outputId": "c43cc06e-2bbb-45e1-d2eb-92d03c434ffa"
      },
      "source": [
        "ten = 10\r\n",
        "ten"
      ],
      "execution_count": null,
      "outputs": [
        {
          "output_type": "execute_result",
          "data": {
            "text/plain": [
              "10"
            ]
          },
          "metadata": {
            "tags": []
          },
          "execution_count": 10
        }
      ]
    },
    {
      "cell_type": "code",
      "metadata": {
        "colab": {
          "base_uri": "https://localhost:8080/",
          "height": 35
        },
        "id": "HttrT7snMLrX",
        "outputId": "8490a090-c01c-49e1-bce8-d090691b137f"
      },
      "source": [
        "ten = 'ten'\r\n",
        "ten"
      ],
      "execution_count": null,
      "outputs": [
        {
          "output_type": "execute_result",
          "data": {
            "application/vnd.google.colaboratory.intrinsic+json": {
              "type": "string"
            },
            "text/plain": [
              "'ten'"
            ]
          },
          "metadata": {
            "tags": []
          },
          "execution_count": 11
        }
      ]
    },
    {
      "cell_type": "code",
      "metadata": {
        "id": "cj_yim60ML11"
      },
      "source": [
        "'Day '+ 1"
      ],
      "execution_count": null,
      "outputs": []
    },
    {
      "cell_type": "code",
      "metadata": {
        "colab": {
          "base_uri": "https://localhost:8080/",
          "height": 35
        },
        "id": "hQcacJCiNf-9",
        "outputId": "7d29ddf8-3f30-4a3a-d191-f4bdd80d166d"
      },
      "source": [
        "'Day ' + str(1)"
      ],
      "execution_count": null,
      "outputs": [
        {
          "output_type": "execute_result",
          "data": {
            "application/vnd.google.colaboratory.intrinsic+json": {
              "type": "string"
            },
            "text/plain": [
              "'Day 1'"
            ]
          },
          "metadata": {
            "tags": []
          },
          "execution_count": 16
        }
      ]
    },
    {
      "cell_type": "code",
      "metadata": {
        "colab": {
          "base_uri": "https://localhost:8080/"
        },
        "id": "7Du8kR_GNlNv",
        "outputId": "45be1210-48f6-49cc-c5eb-9e2eca697993"
      },
      "source": [
        "True and True"
      ],
      "execution_count": null,
      "outputs": [
        {
          "output_type": "execute_result",
          "data": {
            "text/plain": [
              "True"
            ]
          },
          "metadata": {
            "tags": []
          },
          "execution_count": 15
        }
      ]
    },
    {
      "cell_type": "code",
      "metadata": {
        "colab": {
          "base_uri": "https://localhost:8080/"
        },
        "id": "mzYaySSZNlXB",
        "outputId": "0f71e9d5-e12a-43fd-8ff7-762585312aa4"
      },
      "source": [
        "True or False"
      ],
      "execution_count": null,
      "outputs": [
        {
          "output_type": "execute_result",
          "data": {
            "text/plain": [
              "True"
            ]
          },
          "metadata": {
            "tags": []
          },
          "execution_count": 17
        }
      ]
    },
    {
      "cell_type": "code",
      "metadata": {
        "colab": {
          "base_uri": "https://localhost:8080/"
        },
        "id": "XjtX8p6ENlbF",
        "outputId": "47d1bc02-cfbf-434b-9974-1c4e3018a0a8"
      },
      "source": [
        "not True"
      ],
      "execution_count": null,
      "outputs": [
        {
          "output_type": "execute_result",
          "data": {
            "text/plain": [
              "False"
            ]
          },
          "metadata": {
            "tags": []
          },
          "execution_count": 18
        }
      ]
    },
    {
      "cell_type": "code",
      "metadata": {
        "colab": {
          "base_uri": "https://localhost:8080/"
        },
        "id": "FB1TWasDNljo",
        "outputId": "3325ad85-ae0c-4d4c-aec8-f333f86071cf"
      },
      "source": [
        "not False"
      ],
      "execution_count": null,
      "outputs": [
        {
          "output_type": "execute_result",
          "data": {
            "text/plain": [
              "True"
            ]
          },
          "metadata": {
            "tags": []
          },
          "execution_count": 19
        }
      ]
    },
    {
      "cell_type": "code",
      "metadata": {
        "colab": {
          "base_uri": "https://localhost:8080/"
        },
        "id": "x7ZXmmi6NlwR",
        "outputId": "4af1de1d-bb24-4380-c595-ea5c4645c99f"
      },
      "source": [
        "True is True"
      ],
      "execution_count": null,
      "outputs": [
        {
          "output_type": "execute_result",
          "data": {
            "text/plain": [
              "True"
            ]
          },
          "metadata": {
            "tags": []
          },
          "execution_count": 20
        }
      ]
    },
    {
      "cell_type": "code",
      "metadata": {
        "colab": {
          "base_uri": "https://localhost:8080/"
        },
        "id": "bpCCcmd3OR_t",
        "outputId": "3f48d197-7728-4249-e0d7-7b93f7ef08f4"
      },
      "source": [
        "True is False"
      ],
      "execution_count": null,
      "outputs": [
        {
          "output_type": "execute_result",
          "data": {
            "text/plain": [
              "False"
            ]
          },
          "metadata": {
            "tags": []
          },
          "execution_count": 21
        }
      ]
    },
    {
      "cell_type": "code",
      "metadata": {
        "colab": {
          "base_uri": "https://localhost:8080/"
        },
        "id": "7K_bGg-uOSOs",
        "outputId": "c1c5b5b0-7b04-49e4-caac-745d73d3f87a"
      },
      "source": [
        "'a' is 'a'"
      ],
      "execution_count": null,
      "outputs": [
        {
          "output_type": "execute_result",
          "data": {
            "text/plain": [
              "True"
            ]
          },
          "metadata": {
            "tags": []
          },
          "execution_count": 22
        }
      ]
    },
    {
      "cell_type": "code",
      "metadata": {
        "colab": {
          "base_uri": "https://localhost:8080/"
        },
        "id": "M3xyXQrROSax",
        "outputId": "58b2faed-18c4-42b0-de0f-a609681d85fd"
      },
      "source": [
        "i = 3\r\n",
        "if i < 3:\r\n",
        "    print('less than 3')\r\n",
        "elif i < 5:\r\n",
        "    print('less than 5')\r\n",
        "else:\r\n",
        "    print('5 or more')\r\n"
      ],
      "execution_count": null,
      "outputs": [
        {
          "output_type": "stream",
          "text": [
            "less than 5\n"
          ],
          "name": "stdout"
        }
      ]
    },
    {
      "cell_type": "code",
      "metadata": {
        "colab": {
          "base_uri": "https://localhost:8080/"
        },
        "id": "6_O9vx48OcOE",
        "outputId": "eee8b3c2-f33a-41d9-f6b3-9aa877da6a90"
      },
      "source": [
        "l = []\r\n",
        "l"
      ],
      "execution_count": null,
      "outputs": [
        {
          "output_type": "execute_result",
          "data": {
            "text/plain": [
              "[]"
            ]
          },
          "metadata": {
            "tags": []
          },
          "execution_count": 24
        }
      ]
    },
    {
      "cell_type": "code",
      "metadata": {
        "colab": {
          "base_uri": "https://localhost:8080/"
        },
        "id": "aQKfUOD6OcWD",
        "outputId": "6beebb1f-dca9-404d-a29f-1e7e81562c4d"
      },
      "source": [
        "l = list()\r\n",
        "l"
      ],
      "execution_count": null,
      "outputs": [
        {
          "output_type": "execute_result",
          "data": {
            "text/plain": [
              "[]"
            ]
          },
          "metadata": {
            "tags": []
          },
          "execution_count": 25
        }
      ]
    },
    {
      "cell_type": "code",
      "metadata": {
        "colab": {
          "base_uri": "https://localhost:8080/"
        },
        "id": "8YCwTIgSOcdC",
        "outputId": "c831e01b-f8d6-4418-bd06-114192de2a28"
      },
      "source": [
        "l = ['a', 'b', 'c']\r\n",
        "print(l)\r\n",
        "type(l)"
      ],
      "execution_count": null,
      "outputs": [
        {
          "output_type": "stream",
          "text": [
            "['a', 'b', 'c']\n"
          ],
          "name": "stdout"
        },
        {
          "output_type": "execute_result",
          "data": {
            "text/plain": [
              "list"
            ]
          },
          "metadata": {
            "tags": []
          },
          "execution_count": 26
        }
      ]
    },
    {
      "cell_type": "code",
      "metadata": {
        "colab": {
          "base_uri": "https://localhost:8080/"
        },
        "id": "moBLpp4TOcjU",
        "outputId": "a63caaa6-c1b1-4f9a-a656-8a9fe5ba4644"
      },
      "source": [
        "l = ['a',6]\r\n",
        "l"
      ],
      "execution_count": null,
      "outputs": [
        {
          "output_type": "execute_result",
          "data": {
            "text/plain": [
              "['a', 6]"
            ]
          },
          "metadata": {
            "tags": []
          },
          "execution_count": 27
        }
      ]
    },
    {
      "cell_type": "code",
      "metadata": {
        "colab": {
          "base_uri": "https://localhost:8080/"
        },
        "id": "ZhM1hkJyPEz5",
        "outputId": "015c7dc7-4506-461f-fc17-c01f442200c7"
      },
      "source": [
        "l2 = list(l)\r\n",
        "l2"
      ],
      "execution_count": null,
      "outputs": [
        {
          "output_type": "execute_result",
          "data": {
            "text/plain": [
              "['a', 6]"
            ]
          },
          "metadata": {
            "tags": []
          },
          "execution_count": 28
        }
      ]
    },
    {
      "cell_type": "code",
      "metadata": {
        "colab": {
          "base_uri": "https://localhost:8080/"
        },
        "id": "hca7f_a2PFDF",
        "outputId": "8bd13361-c1c1-497b-eee5-233c8948569a"
      },
      "source": [
        "list('abcdef')"
      ],
      "execution_count": null,
      "outputs": [
        {
          "output_type": "execute_result",
          "data": {
            "text/plain": [
              "['a', 'b', 'c', 'd', 'e', 'f']"
            ]
          },
          "metadata": {
            "tags": []
          },
          "execution_count": 29
        }
      ]
    },
    {
      "cell_type": "code",
      "metadata": {
        "colab": {
          "base_uri": "https://localhost:8080/"
        },
        "id": "BSFW7TTBPFK-",
        "outputId": "9bcb1da4-86d1-41c2-e087-d30e059e5dcc"
      },
      "source": [
        "l = [1,2]\r\n",
        "print(l)\r\n",
        "l.append('b')\r\n",
        "print(l)\r\n",
        "l.append('c')\r\n",
        "print(l)\r\n",
        "l.insert(1, 56)\r\n",
        "l"
      ],
      "execution_count": null,
      "outputs": [
        {
          "output_type": "stream",
          "text": [
            "[1, 2]\n",
            "[1, 2, 'b']\n",
            "[1, 2, 'b', 'c']\n"
          ],
          "name": "stdout"
        },
        {
          "output_type": "execute_result",
          "data": {
            "text/plain": [
              "[1, 56, 2, 'b', 'c']"
            ]
          },
          "metadata": {
            "tags": []
          },
          "execution_count": 30
        }
      ]
    },
    {
      "cell_type": "code",
      "metadata": {
        "colab": {
          "base_uri": "https://localhost:8080/"
        },
        "id": "CuA_Ov5_PFPe",
        "outputId": "4a665ec4-f451-4cdf-b08e-e04837c53c9b"
      },
      "source": [
        "for i in l:\r\n",
        "    print(i)"
      ],
      "execution_count": null,
      "outputs": [
        {
          "output_type": "stream",
          "text": [
            "1\n",
            "56\n",
            "2\n",
            "b\n",
            "c\n"
          ],
          "name": "stdout"
        }
      ]
    },
    {
      "cell_type": "code",
      "metadata": {
        "colab": {
          "base_uri": "https://localhost:8080/"
        },
        "id": "rJ4YfInFPFWl",
        "outputId": "8984887b-523d-4445-f58a-66a8ee623ed1"
      },
      "source": [
        "numbers = [6, 5, 3, 8, 4, 2, 5, 4,9]\r\n",
        "\r\n",
        "\r\n",
        "sum = 0\r\n",
        "\r\n",
        "for i in numbers:\r\n",
        "    sum = sum + i\r\n",
        "    \r\n",
        "print(\"The sum is\", sum)\r\n",
        "sum"
      ],
      "execution_count": null,
      "outputs": [
        {
          "output_type": "stream",
          "text": [
            "The sum is 46\n"
          ],
          "name": "stdout"
        },
        {
          "output_type": "execute_result",
          "data": {
            "text/plain": [
              "46"
            ]
          },
          "metadata": {
            "tags": []
          },
          "execution_count": 33
        }
      ]
    },
    {
      "cell_type": "code",
      "metadata": {
        "colab": {
          "base_uri": "https://localhost:8080/"
        },
        "id": "MfUvVrL1PFmR",
        "outputId": "03e99f55-d062-49a3-f0e9-5983d4e9382b"
      },
      "source": [
        "digits = [0, 1, 5]\r\n",
        "\r\n",
        "for i in digits:\r\n",
        "    print(i)\r\n",
        "else:\r\n",
        "    print(\"No items left.\")"
      ],
      "execution_count": null,
      "outputs": [
        {
          "output_type": "stream",
          "text": [
            "0\n",
            "1\n",
            "5\n",
            "No items left.\n"
          ],
          "name": "stdout"
        }
      ]
    },
    {
      "cell_type": "code",
      "metadata": {
        "colab": {
          "base_uri": "https://localhost:8080/"
        },
        "id": "JWcQIb2JQA8B",
        "outputId": "70d0419f-4c82-4244-c21b-5596c26a6210"
      },
      "source": [
        "\r\n",
        "n = int(input(\"Enter n: \"))\r\n",
        "sum = 0\r\n",
        "i = 1\r\n",
        "\r\n",
        "while i <= n:\r\n",
        "    sum = sum + i\r\n",
        "    i = i+1    \r\n",
        "\r\n",
        "print(\"The sum is\", sum)"
      ],
      "execution_count": null,
      "outputs": [
        {
          "output_type": "stream",
          "text": [
            "Enter n: 4\n",
            "The sum is 10\n"
          ],
          "name": "stdout"
        }
      ]
    },
    {
      "cell_type": "code",
      "metadata": {
        "colab": {
          "base_uri": "https://localhost:8080/"
        },
        "id": "pc65uuHgQBiT",
        "outputId": "1ea62ad4-5da1-4a52-f2bf-7269e6e3d183"
      },
      "source": [
        "print(range(10))"
      ],
      "execution_count": null,
      "outputs": [
        {
          "output_type": "stream",
          "text": [
            "range(0, 10)\n"
          ],
          "name": "stdout"
        }
      ]
    },
    {
      "cell_type": "code",
      "metadata": {
        "colab": {
          "base_uri": "https://localhost:8080/"
        },
        "id": "7tZdwXavQg0t",
        "outputId": "b6101be6-0f0a-4965-c84a-e0429894dca5"
      },
      "source": [
        "print(list(range(10)))"
      ],
      "execution_count": null,
      "outputs": [
        {
          "output_type": "stream",
          "text": [
            "[0, 1, 2, 3, 4, 5, 6, 7, 8, 9]\n"
          ],
          "name": "stdout"
        }
      ]
    },
    {
      "cell_type": "code",
      "metadata": {
        "colab": {
          "base_uri": "https://localhost:8080/"
        },
        "id": "o2lOutrfQg7m",
        "outputId": "fbef743c-0598-436c-cb4c-9de43ec24bf7"
      },
      "source": [
        "print(list(range(2, 8)))"
      ],
      "execution_count": null,
      "outputs": [
        {
          "output_type": "stream",
          "text": [
            "[2, 3, 4, 5, 6, 7]\n"
          ],
          "name": "stdout"
        }
      ]
    },
    {
      "cell_type": "code",
      "metadata": {
        "colab": {
          "base_uri": "https://localhost:8080/"
        },
        "id": "1H8ErtmMQ1Ta",
        "outputId": "cd56c212-1bf6-49ee-c158-fbcbf34a0e38"
      },
      "source": [
        "print(list(range(2, 20, 5)))"
      ],
      "execution_count": null,
      "outputs": [
        {
          "output_type": "stream",
          "text": [
            "[2, 7, 12, 17]\n"
          ],
          "name": "stdout"
        }
      ]
    },
    {
      "cell_type": "code",
      "metadata": {
        "colab": {
          "base_uri": "https://localhost:8080/"
        },
        "id": "8eZHDoQgQ1ZY",
        "outputId": "23ae3bfa-2d6f-43ec-a7ec-3af5a45bd6ba"
      },
      "source": [
        "genre = ['pop', 'rock', 'jazz','sapna']\r\n",
        "\r\n",
        "for i in range(len(genre)):\r\n",
        "    print(\"I like\", genre[i])"
      ],
      "execution_count": null,
      "outputs": [
        {
          "output_type": "stream",
          "text": [
            "I like pop\n",
            "I like rock\n",
            "I like jazz\n",
            "I like sapna\n"
          ],
          "name": "stdout"
        }
      ]
    },
    {
      "cell_type": "code",
      "metadata": {
        "colab": {
          "base_uri": "https://localhost:8080/"
        },
        "id": "_FPRkKa9Q1hU",
        "outputId": "5ed819a1-f157-4362-956e-b5453423f39f"
      },
      "source": [
        "for val in \"PALLAVI\":\r\n",
        "    if val == \"I\":\r\n",
        "        break\r\n",
        "    print(val)\r\n",
        "\r\n",
        "print(\"The end\")"
      ],
      "execution_count": null,
      "outputs": [
        {
          "output_type": "stream",
          "text": [
            "P\n",
            "A\n",
            "L\n",
            "L\n",
            "A\n",
            "V\n",
            "The end\n"
          ],
          "name": "stdout"
        }
      ]
    },
    {
      "cell_type": "code",
      "metadata": {
        "colab": {
          "base_uri": "https://localhost:8080/"
        },
        "id": "IXglWW_uQ1jQ",
        "outputId": "7b3b5162-0e4c-4139-d865-54f62c80b397"
      },
      "source": [
        "for val in \"PALLAVI\":\r\n",
        "    if val == \"I\":\r\n",
        "        continue\r\n",
        "    print(val)\r\n",
        "\r\n",
        "print(\"The end\")"
      ],
      "execution_count": null,
      "outputs": [
        {
          "output_type": "stream",
          "text": [
            "P\n",
            "A\n",
            "L\n",
            "L\n",
            "A\n",
            "V\n",
            "The end\n"
          ],
          "name": "stdout"
        }
      ]
    },
    {
      "cell_type": "code",
      "metadata": {
        "colab": {
          "base_uri": "https://localhost:8080/"
        },
        "id": "JMnjQS1FQ1oD",
        "outputId": "6e1f0bcd-2992-420e-e62b-c574cf511e9e"
      },
      "source": [
        "name = input(\"What is your name?\\n \")\r\n",
        "type(name)"
      ],
      "execution_count": null,
      "outputs": [
        {
          "output_type": "stream",
          "text": [
            "What is your name?\n",
            " PALLAVI\n"
          ],
          "name": "stdout"
        },
        {
          "output_type": "execute_result",
          "data": {
            "text/plain": [
              "str"
            ]
          },
          "metadata": {
            "tags": []
          },
          "execution_count": 46
        }
      ]
    },
    {
      "cell_type": "code",
      "metadata": {
        "colab": {
          "base_uri": "https://localhost:8080/"
        },
        "id": "1VSt6HVFS8uN",
        "outputId": "af1e3565-bce9-4122-cfc9-792d7c78b5ee"
      },
      "source": [
        "age = int(input(\"What is your age? \"))\r\n",
        "print (\"Your age is: \", age)\r\n",
        "type(age)"
      ],
      "execution_count": null,
      "outputs": [
        {
          "output_type": "stream",
          "text": [
            "What is your age? 19\n",
            "Your age is:  19\n"
          ],
          "name": "stdout"
        },
        {
          "output_type": "execute_result",
          "data": {
            "text/plain": [
              "int"
            ]
          },
          "metadata": {
            "tags": []
          },
          "execution_count": 47
        }
      ]
    },
    {
      "cell_type": "code",
      "metadata": {
        "colab": {
          "base_uri": "https://localhost:8080/"
        },
        "id": "u7xkLA_6S9Gs",
        "outputId": "cd9e59fa-467d-4a11-9c3b-16558ff8e1d3"
      },
      "source": [
        "name = input(\"What is your name? \")\r\n",
        "print (\" It was nice talking you \" + name + \"!\")\r\n",
        "age = input(\"Enter your age? \")\r\n",
        "print(\"Hey, you are already \" + age + \" years old, \" + name + \"!\")\r\n"
      ],
      "execution_count": null,
      "outputs": [
        {
          "output_type": "stream",
          "text": [
            "What is your name? PALLAVI\n",
            " It was nice talking you PALLAVI!\n",
            "Enter your age? 19\n",
            "Hey, you are already 19 years old, PALLAVI!\n"
          ],
          "name": "stdout"
        }
      ]
    },
    {
      "cell_type": "code",
      "metadata": {
        "id": "NfnF3r79S9Nx"
      },
      "source": [
        ""
      ],
      "execution_count": null,
      "outputs": []
    }
  ]
}