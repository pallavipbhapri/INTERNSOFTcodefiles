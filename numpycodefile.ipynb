{
  "nbformat": 4,
  "nbformat_minor": 0,
  "metadata": {
    "colab": {
      "name": "numpycodefile.ipynb",
      "provenance": [],
      "collapsed_sections": []
    },
    "kernelspec": {
      "name": "python3",
      "display_name": "Python 3"
    }
  },
  "cells": [
    {
      "cell_type": "code",
      "metadata": {
        "id": "rCYO4ycI9Zsl"
      },
      "source": [
        "import numpy as np"
      ],
      "execution_count": null,
      "outputs": []
    },
    {
      "cell_type": "code",
      "metadata": {
        "id": "dWba8nfl9aog"
      },
      "source": [
        "a = np.arange(15)\r\n",
        "b = np.arange(20)"
      ],
      "execution_count": null,
      "outputs": []
    },
    {
      "cell_type": "code",
      "metadata": {
        "id": "wDmuJ1C69aqV"
      },
      "source": [
        "a\r\n",
        "b"
      ],
      "execution_count": null,
      "outputs": []
    },
    {
      "cell_type": "code",
      "metadata": {
        "id": "Gh3oLbxr9auy"
      },
      "source": [
        "a = np.arange(15).reshape(3,5)\r\n",
        "\r\n",
        "a"
      ],
      "execution_count": null,
      "outputs": []
    },
    {
      "cell_type": "code",
      "metadata": {
        "id": "89cJgE9Q9axf"
      },
      "source": [
        "print(a.ndim)\r\n",
        "print(a.shape)\r\n",
        "print(a.size)\r\n",
        "print(a.dtype)\r\n",
        "print(a.itemsize)\r\n",
        "print(type(a))"
      ],
      "execution_count": null,
      "outputs": []
    },
    {
      "cell_type": "code",
      "metadata": {
        "id": "Wqt3kINN9a0f"
      },
      "source": [
        "help(a)"
      ],
      "execution_count": null,
      "outputs": []
    },
    {
      "cell_type": "code",
      "metadata": {
        "id": "qmBqscov9a2y"
      },
      "source": [
        "b = np.array( [1.0, 2.0, 3.0, 4.0] )\r\n",
        "print(b)\r\n",
        "print(b.dtype)\r\n",
        "print(type(b))"
      ],
      "execution_count": null,
      "outputs": []
    },
    {
      "cell_type": "code",
      "metadata": {
        "id": "jJ9SiEuG9a6O"
      },
      "source": [
        "c = np.eye(10)\r\n",
        "dtype=np.float64\r\n",
        "c"
      ],
      "execution_count": null,
      "outputs": []
    },
    {
      "cell_type": "code",
      "metadata": {
        "id": "65KVvItB9a8L"
      },
      "source": [
        "d = np.linspace(-1, 2, 15, endpoint=True)\r\n",
        "print(d)"
      ],
      "execution_count": null,
      "outputs": []
    },
    {
      "cell_type": "code",
      "metadata": {
        "id": "67LtUzXu9a_k"
      },
      "source": [
        "e = np.logspace(-1, 2, 15, endpoint=True, base=10)\r\n",
        "print(e)"
      ],
      "execution_count": null,
      "outputs": []
    },
    {
      "cell_type": "code",
      "metadata": {
        "id": "pG26GcO1AZk-"
      },
      "source": [
        "help(np.logspace)"
      ],
      "execution_count": null,
      "outputs": []
    },
    {
      "cell_type": "code",
      "metadata": {
        "id": "k4D9z57k9bBz"
      },
      "source": [
        "f = np.fromfunction(lambda i, j: i == j, (3, 3), dtype=int)\r\n",
        "f"
      ],
      "execution_count": null,
      "outputs": []
    },
    {
      "cell_type": "code",
      "metadata": {
        "id": "iIGZ2iwQAbIb"
      },
      "source": [
        "a = np.arange(12).reshape(3,4)\r\n",
        "print(a)"
      ],
      "execution_count": null,
      "outputs": []
    },
    {
      "cell_type": "code",
      "metadata": {
        "id": "FqATA5fNAbKU"
      },
      "source": [
        "a*2"
      ],
      "execution_count": null,
      "outputs": []
    },
    {
      "cell_type": "code",
      "metadata": {
        "id": "xQqzW5WnAbOa"
      },
      "source": [
        "a + a"
      ],
      "execution_count": null,
      "outputs": []
    },
    {
      "cell_type": "code",
      "metadata": {
        "id": "shx6qZCMAbQJ"
      },
      "source": [
        "a*a"
      ],
      "execution_count": null,
      "outputs": []
    },
    {
      "cell_type": "code",
      "metadata": {
        "id": "3Wx2Cnq1AbTp"
      },
      "source": [
        "b = a.transpose()\r\n",
        "b"
      ],
      "execution_count": null,
      "outputs": []
    },
    {
      "cell_type": "code",
      "metadata": {
        "id": "-sAYDcK5B86Q"
      },
      "source": [
        "a @ b"
      ],
      "execution_count": null,
      "outputs": []
    },
    {
      "cell_type": "code",
      "metadata": {
        "id": "15e22YzPB9Al"
      },
      "source": [
        "print(a)\r\n",
        "a.sum(axis=1)"
      ],
      "execution_count": null,
      "outputs": []
    },
    {
      "cell_type": "code",
      "metadata": {
        "id": "lrxYbyc_B9Ca"
      },
      "source": [
        "a.sum()"
      ],
      "execution_count": null,
      "outputs": []
    },
    {
      "cell_type": "code",
      "metadata": {
        "id": "f_NkHsdxCJFI"
      },
      "source": [
        "print(a.min(), a.max())"
      ],
      "execution_count": null,
      "outputs": []
    },
    {
      "cell_type": "code",
      "metadata": {
        "id": "HANSrLbNCJKN"
      },
      "source": [
        "b = a*np.pi/12.0\r\n",
        "print(b)"
      ],
      "execution_count": null,
      "outputs": []
    },
    {
      "cell_type": "code",
      "metadata": {
        "id": "6_wH0tyQCJL2"
      },
      "source": [
        "c = np.cos(b)\r\n",
        "print(c)"
      ],
      "execution_count": null,
      "outputs": []
    },
    {
      "cell_type": "code",
      "metadata": {
        "id": "zpjcUE_RCJQg"
      },
      "source": [
        "d = b + c "
      ],
      "execution_count": null,
      "outputs": []
    },
    {
      "cell_type": "code",
      "metadata": {
        "id": "ulZHPewdCJSV"
      },
      "source": [
        "print(d)"
      ],
      "execution_count": null,
      "outputs": []
    },
    {
      "cell_type": "code",
      "metadata": {
        "id": "lw8jHAtvCJWe"
      },
      "source": [
        "a = np.arange(9)\r\n",
        "a"
      ],
      "execution_count": null,
      "outputs": []
    },
    {
      "cell_type": "code",
      "metadata": {
        "id": "t-auNgTnCiay"
      },
      "source": [
        "a[3]"
      ],
      "execution_count": null,
      "outputs": []
    },
    {
      "cell_type": "code",
      "metadata": {
        "id": "n65mlYEFCic4"
      },
      "source": [
        "print(a[2:3])"
      ],
      "execution_count": null,
      "outputs": []
    },
    {
      "cell_type": "code",
      "metadata": {
        "id": "ZZEOu8a1CihR"
      },
      "source": [
        "a[2:4]"
      ],
      "execution_count": null,
      "outputs": []
    },
    {
      "cell_type": "code",
      "metadata": {
        "id": "qadfUeQqCijc"
      },
      "source": [
        "a[:]"
      ],
      "execution_count": null,
      "outputs": []
    },
    {
      "cell_type": "code",
      "metadata": {
        "id": "Ju9wuOrZCs8K"
      },
      "source": [
        "a = np.arange(15).reshape(3,5)\r\n",
        "a"
      ],
      "execution_count": null,
      "outputs": []
    },
    {
      "cell_type": "code",
      "metadata": {
        "id": "ioDoqZJGCs-7"
      },
      "source": [
        "a[1,1]"
      ],
      "execution_count": null,
      "outputs": []
    },
    {
      "cell_type": "code",
      "metadata": {
        "id": "nU2dZoBLCtCE"
      },
      "source": [
        "a[0:2,0:2]"
      ],
      "execution_count": null,
      "outputs": []
    },
    {
      "cell_type": "code",
      "metadata": {
        "id": "R_KGmHb-CtEW"
      },
      "source": [
        "a[:,1]"
      ],
      "execution_count": null,
      "outputs": []
    },
    {
      "cell_type": "code",
      "metadata": {
        "id": "kBpybZNlCtHK"
      },
      "source": [
        "a = a.flatten()\r\n",
        "print(a)"
      ],
      "execution_count": null,
      "outputs": []
    },
    {
      "cell_type": "code",
      "metadata": {
        "id": "WxfNppTqCiwv"
      },
      "source": [
        "for r in a:\r\n",
        "    print(r)\r\n",
        "a = np.arange(15).reshape(3,5)\r\n",
        "print(a)"
      ],
      "execution_count": null,
      "outputs": []
    },
    {
      "cell_type": "code",
      "metadata": {
        "id": "GjDlP0ytDW6f"
      },
      "source": [
        "for e in a.flat:\r\n",
        "    print(e)"
      ],
      "execution_count": null,
      "outputs": []
    },
    {
      "cell_type": "code",
      "metadata": {
        "id": "9lbhD0N5DW86"
      },
      "source": [
        "help(a.flatten())"
      ],
      "execution_count": null,
      "outputs": []
    },
    {
      "cell_type": "code",
      "metadata": {
        "id": "fbbLwzQ2DXAP"
      },
      "source": [
        "a = np.arange(10)\r\n",
        "print(a)\r\n"
      ],
      "execution_count": null,
      "outputs": []
    },
    {
      "cell_type": "code",
      "metadata": {
        "id": "7sYluVzTDXCN"
      },
      "source": [
        "b = a\r\n",
        "b is a"
      ],
      "execution_count": null,
      "outputs": []
    },
    {
      "cell_type": "code",
      "metadata": {
        "id": "k6EkgDudDXF5"
      },
      "source": [
        "b.shape = (2, 5)\r\n",
        "print(b)\r\n",
        "a.shape"
      ],
      "execution_count": null,
      "outputs": []
    },
    {
      "cell_type": "code",
      "metadata": {
        "id": "BzAmT6SmDXH4"
      },
      "source": [
        "b is a"
      ],
      "execution_count": null,
      "outputs": []
    },
    {
      "cell_type": "code",
      "metadata": {
        "id": "MSGsMqeoE2ij"
      },
      "source": [
        "print(a)"
      ],
      "execution_count": null,
      "outputs": []
    },
    {
      "cell_type": "code",
      "metadata": {
        "id": "xi4Su2_uE2kp"
      },
      "source": [
        "a = np.arange(12)\r\n",
        "c = a[:]\r\n",
        "a.shape = (3,4)\r\n",
        "\r\n",
        "print(a)\r\n",
        "print(c)"
      ],
      "execution_count": null,
      "outputs": []
    },
    {
      "cell_type": "code",
      "metadata": {
        "id": "kZkeAtAKE2pl"
      },
      "source": [
        "c[1] = -1\r\n",
        "print(a)\r\n",
        "print(c)"
      ],
      "execution_count": null,
      "outputs": []
    },
    {
      "cell_type": "code",
      "metadata": {
        "id": "BFI9Mpz1E2rc"
      },
      "source": [
        "d = c[3:8]\r\n",
        "print(d)"
      ],
      "execution_count": null,
      "outputs": []
    },
    {
      "cell_type": "code",
      "metadata": {
        "id": "LXL4T-c-E2vR"
      },
      "source": [
        "d[:] = 0"
      ],
      "execution_count": null,
      "outputs": []
    },
    {
      "cell_type": "code",
      "metadata": {
        "id": "B0OJwWDdE21k"
      },
      "source": [
        "print(a)\r\n",
        "print(c)\r\n",
        "print(d)"
      ],
      "execution_count": null,
      "outputs": []
    },
    {
      "cell_type": "code",
      "metadata": {
        "id": "32wbDvAiFR8b"
      },
      "source": [
        "print(c is a)\r\n",
        "print(c.base is a)\r\n",
        "print(c.flags.owndata)\r\n",
        "print(a.flags.owndata)"
      ],
      "execution_count": null,
      "outputs": []
    },
    {
      "cell_type": "code",
      "metadata": {
        "id": "mRqUkIylFR_G"
      },
      "source": [
        "d = a.copy()\r\n",
        "d[:,:] = 0.0"
      ],
      "execution_count": null,
      "outputs": []
    },
    {
      "cell_type": "code",
      "metadata": {
        "id": "qrPQy7KUFSCY"
      },
      "source": [
        "a = np.arange(12).reshape(3,4)\r\n",
        "a"
      ],
      "execution_count": null,
      "outputs": []
    },
    {
      "cell_type": "code",
      "metadata": {
        "id": "ncayOoo2FhmC"
      },
      "source": [
        "a[a > 4] = 0\r\n",
        "a"
      ],
      "execution_count": null,
      "outputs": []
    },
    {
      "cell_type": "code",
      "metadata": {
        "id": "3FlESE81FhoJ"
      },
      "source": [
        "a[a == 0] = -1\r\n",
        "a"
      ],
      "execution_count": null,
      "outputs": []
    },
    {
      "cell_type": "code",
      "metadata": {
        "id": "9WpzaqlFFhrs"
      },
      "source": [
        "a == -1"
      ],
      "execution_count": null,
      "outputs": []
    },
    {
      "cell_type": "code",
      "metadata": {
        "id": "dSRJYNPGFhuC"
      },
      "source": [
        "a = np.arange(12).reshape(3,4)\r\n",
        "a[np.logical_and(a > 3, a <= 9)] = 0.0\r\n",
        "a"
      ],
      "execution_count": null,
      "outputs": []
    },
    {
      "cell_type": "code",
      "metadata": {
        "id": "_rP3N0YAFhwB"
      },
      "source": [
        "a > 4"
      ],
      "execution_count": null,
      "outputs": []
    },
    {
      "cell_type": "code",
      "metadata": {
        "id": "e4yaiw3sFhzG"
      },
      "source": [
        "M = 32\r\n",
        "N = 64\r\n",
        "xmin = ymin = 0.0\r\n",
        "xmax = ymax = 1.0\r\n",
        "\r\n",
        "x = np.linspace(xmin, xmax, M, endpoint=False)\r\n",
        "y = np.linspace(ymin, ymax, N, endpoint=False)\r\n",
        "\r\n",
        "print(x.shape)\r\n",
        "print(y.shape)\r\n",
        "y"
      ],
      "execution_count": null,
      "outputs": []
    },
    {
      "cell_type": "code",
      "metadata": {
        "id": "CORG7T_tFh2N"
      },
      "source": [
        "import time\r\n",
        "import numpy as np\r\n",
        "M = 32\r\n",
        "N = 64\r\n",
        "\r\n",
        "x = np.linspace(0.0, 1.0, M, endpoint=False)\r\n",
        "y = np.linspace(0.0, 1.0, N, endpoint=False)\r\n"
      ],
      "execution_count": null,
      "outputs": []
    },
    {
      "cell_type": "code",
      "metadata": {
        "id": "y79pgQHwFh44"
      },
      "source": [
        "t0 = time.time()\r\n",
        "\r\n",
        "g = np.zeros((M, N))\r\n",
        "\r\n",
        "for i in range(M):\r\n",
        "    for j in range(N):\r\n",
        "        g[i,j] = np.sin(2.0*np.pi*x[i]*y[j])\r\n",
        "        \r\n",
        "t1 = time.time()\r\n",
        "print(\"time elapsed: {} s\".format(t1-t0))"
      ],
      "execution_count": null,
      "outputs": []
    },
    {
      "cell_type": "code",
      "metadata": {
        "id": "xk4v3RJaFh7g"
      },
      "source": [
        "x2d, y2d = np.meshgrid(x, y, indexing=\"ij\")\r\n",
        "\r\n",
        "print(x2d[:,0])\r\n",
        "print(x2d[0,:])\r\n",
        "\r\n",
        "print(y2d[:,0])\r\n",
        "print(y2d[0,:])"
      ],
      "execution_count": null,
      "outputs": []
    },
    {
      "cell_type": "code",
      "metadata": {
        "id": "6yAkpiZZGiqM"
      },
      "source": [
        "t0 = time.time()\r\n",
        "g2 = np.sin(2.0*np.pi*x2d*y2d)\r\n",
        "t1 = time.time()\r\n",
        "print(\"time elapsed: {} s\".format(t1-t0))"
      ],
      "execution_count": null,
      "outputs": []
    },
    {
      "cell_type": "code",
      "metadata": {
        "id": "M-t9hgp7GitU"
      },
      "source": [
        "x = np.array([1, 2, 3, 4])\r\n",
        "y = np.array([4, 3, 2, 1])\r\n",
        "np.concatenate([y,x])"
      ],
      "execution_count": null,
      "outputs": []
    },
    {
      "cell_type": "code",
      "metadata": {
        "id": "X8AlDqH8Giwq"
      },
      "source": [
        "z = [9, 4, 6]\r\n",
        "print(np.concatenate([x, y, z]))"
      ],
      "execution_count": null,
      "outputs": []
    },
    {
      "cell_type": "code",
      "metadata": {
        "id": "sjAmkloXGizH"
      },
      "source": [
        "grid = np.array([[10, 20, 30],\r\n",
        "                 [40, 50, 60]])"
      ],
      "execution_count": null,
      "outputs": []
    },
    {
      "cell_type": "code",
      "metadata": {
        "id": "9h3cDpo0Fh-V"
      },
      "source": [
        "np.concatenate([grid, grid])"
      ],
      "execution_count": null,
      "outputs": []
    },
    {
      "cell_type": "code",
      "metadata": {
        "id": "SNu_QUwYFiBN"
      },
      "source": [
        "np.concatenate([grid, grid], axis=1)\r\n"
      ],
      "execution_count": null,
      "outputs": []
    },
    {
      "cell_type": "code",
      "metadata": {
        "id": "ZD4SC3aqFiDC"
      },
      "source": [
        "x = [1, 2, 3, 4, 4, 3 ,2, 1, 9, 4 ,6]\r\n",
        "x1, x2, x3,x4 = np.split(x, [3, 5,8])\r\n",
        "print(x1, x2, x3, x4)"
      ],
      "execution_count": null,
      "outputs": []
    },
    {
      "cell_type": "code",
      "metadata": {
        "id": "YQi-_ryBFSEi"
      },
      "source": [
        "grid = np.arange(25).reshape((5, 5))\r\n",
        "grid"
      ],
      "execution_count": null,
      "outputs": []
    },
    {
      "cell_type": "code",
      "metadata": {
        "id": "Jltxn9dYE26M"
      },
      "source": [
        "left, right = np.hsplit(grid, [2])\r\n",
        "print(left)\r\n",
        "print(right)"
      ],
      "execution_count": null,
      "outputs": []
    },
    {
      "cell_type": "code",
      "metadata": {
        "id": "2TRjv3GtHVAh"
      },
      "source": [
        "x = np.arange(1, 9)\r\n",
        "print(x)\r\n",
        "np.add.reduce(x)"
      ],
      "execution_count": null,
      "outputs": []
    },
    {
      "cell_type": "code",
      "metadata": {
        "id": "PFmWQ-3BHVDF"
      },
      "source": [
        "np.multiply.reduce(x)"
      ],
      "execution_count": null,
      "outputs": []
    },
    {
      "cell_type": "code",
      "metadata": {
        "id": "-4ibnF6-HVGq"
      },
      "source": [
        "np.add.accumulate(x)"
      ],
      "execution_count": null,
      "outputs": []
    },
    {
      "cell_type": "code",
      "metadata": {
        "id": "ixITIgdLHVKK"
      },
      "source": [
        "np.multiply.accumulate(x)"
      ],
      "execution_count": null,
      "outputs": []
    },
    {
      "cell_type": "code",
      "metadata": {
        "id": "mh9zK20WHVND"
      },
      "source": [
        ""
      ],
      "execution_count": null,
      "outputs": []
    },
    {
      "cell_type": "code",
      "metadata": {
        "id": "IKV4AAPNHVPy"
      },
      "source": [
        ""
      ],
      "execution_count": null,
      "outputs": []
    }
  ]
}